{
 "cells": [
  {
   "cell_type": "markdown",
   "metadata": {},
   "source": [
    "# Model Comparison and Ending Discussions"
   ]
  },
  {
   "cell_type": "markdown",
   "metadata": {},
   "source": [
    "## ARIMA \n",
    "### [Base (Econometric) Model]\n",
    "![](ARIMA.png)\n",
    "\n",
    ".\n",
    "## MLP Univariate Model\n",
    "![](MLP_U.png)\n",
    "\n",
    ".\n",
    "## CNN Univariate Model\n",
    "![](CNN_U.png)\n",
    "\n",
    ".\n",
    "## MLP Multivariate Model\n",
    "![](MLP_M.png)\n",
    "\n",
    ".\n",
    "## CNN Multivariate Model\n",
    "![](CNN_M.png)\n",
    "\n",
    ".\n",
    "\n"
   ]
  },
  {
   "cell_type": "markdown",
   "metadata": {},
   "source": [
    "# THANK YOU\n"
   ]
  },
  {
   "cell_type": "markdown",
   "metadata": {},
   "source": [
    "## Jason Brownlee --> www.machinelearningmastery.com"
   ]
  },
  {
   "cell_type": "code",
   "execution_count": null,
   "metadata": {},
   "outputs": [],
   "source": []
  }
 ],
 "metadata": {
  "kernelspec": {
   "display_name": "exchange",
   "language": "python",
   "name": "python3"
  },
  "language_info": {
   "codemirror_mode": {
    "name": "ipython",
    "version": 3
   },
   "file_extension": ".py",
   "mimetype": "text/x-python",
   "name": "python",
   "nbconvert_exporter": "python",
   "pygments_lexer": "ipython3",
   "version": "3.11.11"
  },
  "orig_nbformat": 2
 },
 "nbformat": 4,
 "nbformat_minor": 2
}
